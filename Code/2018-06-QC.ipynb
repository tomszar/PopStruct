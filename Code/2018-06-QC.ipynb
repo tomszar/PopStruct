{
 "cells": [
  {
   "cell_type": "markdown",
   "metadata": {},
   "source": [
    "# Quality Control\n",
    "\n",
    "This script will run a quality control pipeline in the genotype files.\n",
    "\n",
    "## Preliminaries\n",
    "\n",
    "First, let's import modules and set paths"
   ]
  },
  {
   "cell_type": "code",
   "execution_count": 1,
   "metadata": {},
   "outputs": [],
   "source": [
    "import glob, os, shutil, subprocess\n",
    "import pandas as pd"
   ]
  },
  {
   "cell_type": "code",
   "execution_count": 2,
   "metadata": {},
   "outputs": [],
   "source": [
    "projpath  = os.path.realpath(\"..\")\n",
    "pathgenos = os.path.join(projpath, \"DataBases\", \"Genotypes\")"
   ]
  },
  {
   "cell_type": "markdown",
   "metadata": {},
   "source": [
    "## Dataset division\n",
    "\n",
    "In this section we will split our datasets by retaining individuals with 3D facial morphology information from the 2016 batch (output as _pheno files)."
   ]
  },
  {
   "cell_type": "code",
   "execution_count": 3,
   "metadata": {},
   "outputs": [],
   "source": [
    "#Move directory\n",
    "os.chdir(pathgenos)"
   ]
  },
  {
   "cell_type": "code",
   "execution_count": 4,
   "metadata": {},
   "outputs": [],
   "source": [
    "idsphenos = pd.read_csv(\"../IDsRemap2016.txt\", header = None)\n",
    "for file in glob.glob(\"01_Original/*.bed\"):\n",
    "    filename = file.split(\".\")[0]\n",
    "    #First create a file with merge between phenos and fam file\n",
    "    if \"UC_FEMMES_IDUpdated\" in filename:\n",
    "        fam  = pd.read_csv(filename + \".fam\", header = None, sep = \"\\t\").iloc[:,[0,1]]\n",
    "    else:\n",
    "        fam  = pd.read_csv(filename + \".fam\", header = None, sep = \" \").iloc[:,[0,1]]\n",
    "    keep = pd.merge(fam.astype({1:\"str\"}), idsphenos.drop_duplicates(subset = 0), how='inner', left_on = 1, right_on = 0).iloc[:,[0,1]]\n",
    "    keepfilename = \"02_Clean/\" + filename.split(\"/\")[1] + \"_KEEP\"\n",
    "    plinkoutfilename = \"02_Clean/\" + filename.split(\"/\")[1] + \"_phenos\"\n",
    "    keep.to_csv(keepfilename, header = None, index = False, sep = \" \")\n",
    "    subprocess.run([\"plink\", \"--bfile\", filename, \"--keep\", keepfilename, \"--make-bed\", \"--out\",  plinkoutfilename])\n",
    "\n",
    "for file in glob.glob(\"02_Clean/*KEEP\"):\n",
    "    os.remove(file)"
   ]
  },
  {
   "cell_type": "markdown",
   "metadata": {},
   "source": [
    "## QC procedure\n",
    "\n",
    "The QC procedure runs as follows:\n",
    "\n",
    "1. Removed founders, that is, individuals with at least one parent in the dataset, and retained only autosomal chromosomes\n",
    "2. Removed SNPs with missing call rates higher than 0.1\n",
    "3. Removed SNPs with minor allele frequencies below 0.05\n",
    "4. Removed SNPs with hardy-weinberg equilibrium p-values less than 0.001\n",
    "5. Removed samples with missing call rates higher than 0.1\n",
    "6. Removed one arbitrary individual from any pairwise comparison with a pihat >= 0.125 from an IBD estimation after LD prune\n"
   ]
  },
  {
   "cell_type": "code",
   "execution_count": 5,
   "metadata": {},
   "outputs": [],
   "source": [
    "#Move directory\n",
    "os.chdir(pathgenos)"
   ]
  },
  {
   "cell_type": "markdown",
   "metadata": {},
   "source": [
    "QC in all samples"
   ]
  },
  {
   "cell_type": "code",
   "execution_count": 6,
   "metadata": {},
   "outputs": [
    {
     "name": "stdout",
     "output_type": "stream",
     "text": [
      "01_Original/TD2016_1M_181ppl\n",
      "01_Original/Euro180_176ppl_317K_hg19_ATGC\n",
      "01_Original/SA_231ppl_599K_hg19_ATGC\n",
      "01_Original/UIUC2013_116ppl_959K_hg19_ATGC\n",
      "01_Original/ADAPT_2784ppl_567K_hg19\n",
      "01_Original/CV_697ppl_964K_hg19_ATGC\n",
      "01_Original/TD2015_199ppl_1M_hg19_ATGC\n",
      "01_Original/CHP_1022ppl_114K_hg19_ATGC\n",
      "01_Original/FEMMES_20170425\n",
      "01_Original/UIUC2014_168ppl_703K_hg19_ATGC\n",
      "01_Original/UC_FEMMES_IDUpdated\n",
      "Finished\n"
     ]
    }
   ],
   "source": [
    "for file in glob.glob(\"01_Original/*.bed\"):\n",
    "    filename1 = file.split(\".\")[0]\n",
    "    print(filename1)\n",
    "    filename2 = \"02_Clean/\" + filename1.split(\"/\")[1]\n",
    "    subprocess.run([\"plink\", \"--bfile\", filename1, \"--filter-founders\", \"--autosome\", \"--make-bed\", \"--out\", filename2 + \"_founders\"])\n",
    "    #SNP missing rate\n",
    "    subprocess.run([\"plink\", \"--bfile\", filename2 + \"_founders\", \"--geno\", \"--make-bed\", \"--out\", filename2 + \"_founders_geno01\"])\n",
    "    #SNP MAF\n",
    "    subprocess.run([\"plink\", \"--bfile\", filename2 + \"_founders_geno01\", \"--maf\", \"0.05\", \"--make-bed\", \"--out\", filename2 + \"_founders_geno01_maf\"])\n",
    "    #SNP HWE\n",
    "    subprocess.run([\"plink\", \"--bfile\", filename2 + \"_founders_geno01_maf\", \"--hwe\", \"0.001\", \"--make-bed\", \"--out\", filename2 + \"_founders_geno01_maf_hwe\"])\n",
    "    #Sample missing rate\n",
    "    subprocess.run([\"plink\", \"--bfile\", filename2 + \"_founders_geno01_maf_hwe\", \"--mind\", \"--make-bed\", \"--out\", filename2 + \"_founders_geno01_maf_hwe_mind01\"])\n",
    "    #Remove no sex in CHP\n",
    "    if \"CHP\" in filename1:\n",
    "        subprocess.run([\"plink\", \"--bfile\", filename2 + \"_founders_geno01_maf_hwe_mind01\", \"--remove\", filename2 + \"_founders_geno01_maf_hwe_mind01.nosex\", \n",
    "                        \"--make-bed\", \"--out\", filename2 + \"_founders_geno01_maf_hwe_mind01\"])\n",
    "    #LD prune for IBS\n",
    "    subprocess.run([\"plink\", \"--bfile\", filename2 + \"_founders_geno01_maf_hwe_mind01\", \"--indep\", \"50\", \"5\", \"2\", \"--out\", filename2 + \"_prune_temp\"])\n",
    "    #Print relatives\n",
    "    subprocess.run([\"plink\", \"--bfile\", filename2 + \"_founders_geno01_maf_hwe_mind01\", \"--exclude\", filename2 + \"_prune_temp\" + \".prune.out\", \n",
    "                    \"--genome\", \"--min\", \"0.125\", \"--out\", filename2 + \"_rel_temp\"])\n",
    "    #Remove samples in the first column\n",
    "    subprocess.run([\"plink\", \"--bfile\", filename2 + \"_founders_geno01_maf_hwe_mind01\", \"--remove\", filename2 + \"_rel_temp.genome\", \"--make-bed\", \"--out\", \n",
    "                    filename2 + \"_founders_geno01_maf_hwe_mind01_rel\"])\n",
    "        \n",
    "print(\"Finished\")"
   ]
  },
  {
   "cell_type": "markdown",
   "metadata": {},
   "source": [
    "QC in _phenos subset"
   ]
  },
  {
   "cell_type": "code",
   "execution_count": 7,
   "metadata": {},
   "outputs": [
    {
     "name": "stdout",
     "output_type": "stream",
     "text": [
      "02_Clean/ADAPT_2784ppl_567K_hg19_phenos\n",
      "02_Clean/UIUC2013_116ppl_959K_hg19_ATGC_phenos\n",
      "02_Clean/SA_231ppl_599K_hg19_ATGC_phenos\n",
      "02_Clean/UIUC2014_168ppl_703K_hg19_ATGC_phenos\n",
      "02_Clean/Euro180_176ppl_317K_hg19_ATGC_phenos\n",
      "02_Clean/CV_697ppl_964K_hg19_ATGC_phenos\n",
      "02_Clean/CHP_1022ppl_114K_hg19_ATGC_phenos\n",
      "Finished\n"
     ]
    }
   ],
   "source": [
    "for file in glob.glob(\"02_Clean/*_phenos.bed\"):\n",
    "    filename1 = file.split(\".\")[0]\n",
    "    print(filename1)\n",
    "    filename2 = \"02_Clean/\" + filename1.split(\"/\")[1]\n",
    "    subprocess.run([\"plink\", \"--bfile\", filename1, \"--filter-founders\", \"--autosome\", \"--make-bed\", \"--out\", filename2 + \"_founders\"])\n",
    "    #SNP missing rate\n",
    "    subprocess.run([\"plink\", \"--bfile\", filename2 + \"_founders\", \"--geno\", \"--make-bed\", \"--out\", filename2 + \"_founders_geno01\"])\n",
    "    #SNP MAF\n",
    "    subprocess.run([\"plink\", \"--bfile\", filename2 + \"_founders_geno01\", \"--maf\", \"0.05\", \"--make-bed\", \"--out\", filename2 + \"_founders_geno01_maf\"])\n",
    "    #SNP HWE\n",
    "    subprocess.run([\"plink\", \"--bfile\", filename2 + \"_founders_geno01_maf\", \"--hwe\", \"0.001\", \"--make-bed\", \"--out\", filename2 + \"_founders_geno01_maf_hwe\"])\n",
    "    #Sample missing rate\n",
    "    subprocess.run([\"plink\", \"--bfile\", filename2 + \"_founders_geno01_maf_hwe\", \"--mind\", \"--make-bed\", \"--out\", filename2 + \"_founders_geno01_maf_hwe_mind01\"])\n",
    "    #LD prune for IBS\n",
    "    subprocess.run([\"plink\", \"--bfile\", filename2 + \"_founders_geno01_maf_hwe_mind01\", \"--indep\", \"50\", \"5\", \"2\", \"--out\", filename2 + \"_prune_temp\"])\n",
    "    #Print relatives\n",
    "    subprocess.run([\"plink\", \"--bfile\", filename2 + \"_founders_geno01_maf_hwe_mind01\", \"--exclude\", filename2 + \"_prune_temp\" + \".prune.out\", \n",
    "                    \"--genome\", \"--min\", \"0.125\", \"--out\", filename2 + \"_rel_temp\"])\n",
    "    #Remove samples in the first column\n",
    "    subprocess.run([\"plink\", \"--bfile\", filename2 + \"_founders_geno01_maf_hwe_mind01\", \"--remove\", filename2 + \"_rel_temp.genome\", \"--make-bed\", \"--out\", \n",
    "                    filename2 + \"_founders_geno01_maf_hwe_mind01_rel\"])\n",
    "        \n",
    "print(\"Finished\")"
   ]
  },
  {
   "cell_type": "code",
   "execution_count": 9,
   "metadata": {},
   "outputs": [],
   "source": [
    "#Remove intermediary files\n",
    "removefiles =  glob.glob(\"02_Clean/*_founders.*\") + glob.glob(\"02_Clean/*_geno01.*\") + glob.glob(\"02_Clean/*_maf.*\") + glob.glob(\"02_Clean/*_hwe.*\") + glob.glob(\"02_Clean/*_temp*\") + glob.glob(\"02_Clean/*_mind01.*\") + glob.glob(\"02_Clean/*_phenos.*\")\n",
    "for file in removefiles:\n",
    "    os.remove(file)"
   ]
  },
  {
   "cell_type": "markdown",
   "metadata": {},
   "source": [
    "Let's us look at how many SNPs ended in each dataset."
   ]
  },
  {
   "cell_type": "code",
   "execution_count": 10,
   "metadata": {},
   "outputs": [
    {
     "name": "stdout",
     "output_type": "stream",
     "text": [
      "In file: UIUC2013_116ppl_959K_hg19_ATGC_founders_geno01_maf_hwe_mind01_rel\n",
      "770894 variants loaded from .bim file.\n",
      "770894 variants and 93 people pass filters and QC.\n",
      "Finished file... \n",
      "\n",
      "In file: TD2015_199ppl_1M_hg19_ATGC_founders_geno01_maf_hwe_mind01_rel\n",
      "452138 variants loaded from .bim file.\n",
      "452138 variants and 113 people pass filters and QC.\n",
      "Finished file... \n",
      "\n",
      "In file: UIUC2014_168ppl_703K_hg19_ATGC_founders_geno01_maf_hwe_mind01_rel\n",
      "456478 variants loaded from .bim file.\n",
      "456478 variants and 153 people pass filters and QC.\n",
      "Finished file... \n",
      "\n",
      "In file: CV_697ppl_964K_hg19_ATGC_phenos_founders_geno01_maf_hwe_mind01_rel\n",
      "791206 variants loaded from .bim file.\n",
      "791206 variants and 155 people pass filters and QC.\n",
      "Finished file... \n",
      "\n",
      "In file: ADAPT_2784ppl_567K_hg19_founders_geno01_maf_hwe_mind01_rel\n",
      "393227 variants loaded from .bim file.\n",
      "393227 variants and 2367 people pass filters and QC.\n",
      "Finished file... \n",
      "\n",
      "In file: Euro180_176ppl_317K_hg19_ATGC_founders_geno01_maf_hwe_mind01_rel\n",
      "296316 variants loaded from .bim file.\n",
      "296316 variants and 176 people pass filters and QC.\n",
      "Finished file... \n",
      "\n",
      "In file: UIUC2013_116ppl_959K_hg19_ATGC_phenos_founders_geno01_maf_hwe_mind01_rel\n",
      "768575 variants loaded from .bim file.\n",
      "768575 variants and 77 people pass filters and QC.\n",
      "Finished file... \n",
      "\n",
      "In file: CHP_1022ppl_114K_hg19_ATGC_founders_geno01_maf_hwe_mind01_rel\n",
      "85430 variants loaded from .bim file.\n",
      "85430 variants and 432 people pass filters and QC.\n",
      "Finished file... \n",
      "\n",
      "In file: ADAPT_2784ppl_567K_hg19_phenos_founders_geno01_maf_hwe_mind01_rel\n",
      "417546 variants loaded from .bim file.\n",
      "417546 variants and 2174 people pass filters and QC.\n",
      "Finished file... \n",
      "\n",
      "In file: CHP_1022ppl_114K_hg19_ATGC_phenos_founders_geno01_maf_hwe_mind01_rel\n",
      "84260 variants loaded from .bim file.\n",
      "84260 variants and 378 people pass filters and QC.\n",
      "Finished file... \n",
      "\n",
      "In file: UC_FEMMES_IDUpdated_founders_geno01_maf_hwe_mind01_rel\n",
      "92758 variants loaded from .bim file.\n",
      "92758 variants and 229 people pass filters and QC.\n",
      "Finished file... \n",
      "\n",
      "In file: UIUC2014_168ppl_703K_hg19_ATGC_phenos_founders_geno01_maf_hwe_mind01_rel\n",
      "454171 variants loaded from .bim file.\n",
      "454171 variants and 121 people pass filters and QC.\n",
      "Finished file... \n",
      "\n",
      "In file: TD2016_1M_181ppl_founders_geno01_maf_hwe_mind01_rel\n",
      "422597 variants loaded from .bim file.\n",
      "422597 variants and 90 people pass filters and QC.\n",
      "Finished file... \n",
      "\n",
      "In file: CV_697ppl_964K_hg19_ATGC_founders_geno01_maf_hwe_mind01_rel\n",
      "787881 variants loaded from .bim file.\n",
      "787881 variants and 659 people pass filters and QC.\n",
      "Finished file... \n",
      "\n",
      "In file: FEMMES_20170425_founders_geno01_maf_hwe_mind01_rel\n",
      "464354 variants loaded from .bim file.\n",
      "464354 variants and 233 people pass filters and QC.\n",
      "Finished file... \n",
      "\n",
      "In file: Euro180_176ppl_317K_hg19_ATGC_phenos_founders_geno01_maf_hwe_mind01_rel\n",
      "296038 variants loaded from .bim file.\n",
      "296038 variants and 172 people pass filters and QC.\n",
      "Finished file... \n",
      "\n",
      "In file: SA_231ppl_599K_hg19_ATGC_founders_geno01_maf_hwe_mind01_rel\n",
      "462467 variants loaded from .bim file.\n",
      "462467 variants and 211 people pass filters and QC.\n",
      "Finished file... \n",
      "\n",
      "In file: SA_231ppl_599K_hg19_ATGC_phenos_founders_geno01_maf_hwe_mind01_rel\n",
      "448488 variants loaded from .bim file.\n",
      "448488 variants and 33 people pass filters and QC.\n",
      "Finished file... \n",
      "\n"
     ]
    }
   ],
   "source": [
    "for file in glob.glob(\"02_Clean/*_rel.log\"):\n",
    "    with open(file) as myfile:\n",
    "        print(\"In file: \" + file.split(\"/\")[1].split(\".\")[0])\n",
    "        for num, line in enumerate(myfile, 1):\n",
    "            if \"variants\" in line:\n",
    "                print(line, end='')\n",
    "        print(\"Finished file... \\n\")"
   ]
  },
  {
   "cell_type": "markdown",
   "metadata": {},
   "source": [
    "Let's us look at how many samples were removed in each dataset."
   ]
  },
  {
   "cell_type": "code",
   "execution_count": 11,
   "metadata": {},
   "outputs": [
    {
     "name": "stdout",
     "output_type": "stream",
     "text": [
      "In file: UIUC2013_116ppl_959K_hg19_ATGC_founders_geno01_maf_hwe_mind01_rel\n",
      "115 people (34 males, 81 females) loaded from .fam.\n",
      "--remove: 93 people remaining.\n",
      "770894 variants and 93 people pass filters and QC.\n",
      "Finished file... \n",
      "\n",
      "In file: TD2015_199ppl_1M_hg19_ATGC_founders_geno01_maf_hwe_mind01_rel\n",
      "182 people (28 males, 154 females) loaded from .fam.\n",
      "--remove: 113 people remaining.\n",
      "452138 variants and 113 people pass filters and QC.\n",
      "Finished file... \n",
      "\n",
      "In file: UIUC2014_168ppl_703K_hg19_ATGC_founders_geno01_maf_hwe_mind01_rel\n",
      "166 people (75 males, 91 females) loaded from .fam.\n",
      "--remove: 153 people remaining.\n",
      "456478 variants and 153 people pass filters and QC.\n",
      "Finished file... \n",
      "\n",
      "In file: CV_697ppl_964K_hg19_ATGC_phenos_founders_geno01_maf_hwe_mind01_rel\n",
      "160 people (62 males, 98 females) loaded from .fam.\n",
      "--remove: 155 people remaining.\n",
      "791206 variants and 155 people pass filters and QC.\n",
      "Finished file... \n",
      "\n",
      "In file: ADAPT_2784ppl_567K_hg19_founders_geno01_maf_hwe_mind01_rel\n",
      "2702 people (1007 males, 1695 females) loaded from .fam.\n",
      "--remove: 2367 people remaining.\n",
      "393227 variants and 2367 people pass filters and QC.\n",
      "Finished file... \n",
      "\n",
      "In file: Euro180_176ppl_317K_hg19_ATGC_founders_geno01_maf_hwe_mind01_rel\n",
      "176 people (0 males, 176 females) loaded from .fam.\n",
      "--remove: 176 people remaining.\n",
      "296316 variants and 176 people pass filters and QC.\n",
      "Finished file... \n",
      "\n",
      "In file: UIUC2013_116ppl_959K_hg19_ATGC_phenos_founders_geno01_maf_hwe_mind01_rel\n",
      "91 people (27 males, 64 females) loaded from .fam.\n",
      "--remove: 77 people remaining.\n",
      "768575 variants and 77 people pass filters and QC.\n",
      "Finished file... \n",
      "\n",
      "In file: CHP_1022ppl_114K_hg19_ATGC_founders_geno01_maf_hwe_mind01_rel\n",
      "917 people (332 males, 585 females) loaded from .fam.\n",
      "--remove: 432 people remaining.\n",
      "85430 variants and 432 people pass filters and QC.\n",
      "Finished file... \n",
      "\n",
      "In file: ADAPT_2784ppl_567K_hg19_phenos_founders_geno01_maf_hwe_mind01_rel\n",
      "2392 people (895 males, 1497 females) loaded from .fam.\n",
      "--remove: 2174 people remaining.\n",
      "417546 variants and 2174 people pass filters and QC.\n",
      "Finished file... \n",
      "\n",
      "In file: CHP_1022ppl_114K_hg19_ATGC_phenos_founders_geno01_maf_hwe_mind01_rel\n",
      "802 people (296 males, 506 females) loaded from .fam.\n",
      "--remove: 378 people remaining.\n",
      "84260 variants and 378 people pass filters and QC.\n",
      "Finished file... \n",
      "\n",
      "In file: UC_FEMMES_IDUpdated_founders_geno01_maf_hwe_mind01_rel\n",
      "248 people (0 males, 0 females, 248 ambiguous) loaded from .fam.\n",
      "--remove: 229 people remaining.\n",
      "92758 variants and 229 people pass filters and QC.\n",
      "Finished file... \n",
      "\n",
      "In file: UIUC2014_168ppl_703K_hg19_ATGC_phenos_founders_geno01_maf_hwe_mind01_rel\n",
      "132 people (62 males, 70 females) loaded from .fam.\n",
      "--remove: 121 people remaining.\n",
      "454171 variants and 121 people pass filters and QC.\n",
      "Finished file... \n",
      "\n",
      "In file: TD2016_1M_181ppl_founders_geno01_maf_hwe_mind01_rel\n",
      "181 people (40 males, 141 females) loaded from .fam.\n",
      "--remove: 90 people remaining.\n",
      "422597 variants and 90 people pass filters and QC.\n",
      "Finished file... \n",
      "\n",
      "In file: CV_697ppl_964K_hg19_ATGC_founders_geno01_maf_hwe_mind01_rel\n",
      "697 people (285 males, 412 females) loaded from .fam.\n",
      "--remove: 659 people remaining.\n",
      "787881 variants and 659 people pass filters and QC.\n",
      "Finished file... \n",
      "\n",
      "In file: FEMMES_20170425_founders_geno01_maf_hwe_mind01_rel\n",
      "236 people (0 males, 236 females) loaded from .fam.\n",
      "--remove: 233 people remaining.\n",
      "464354 variants and 233 people pass filters and QC.\n",
      "Finished file... \n",
      "\n",
      "In file: Euro180_176ppl_317K_hg19_ATGC_phenos_founders_geno01_maf_hwe_mind01_rel\n",
      "172 people (0 males, 172 females) loaded from .fam.\n",
      "--remove: 172 people remaining.\n",
      "296038 variants and 172 people pass filters and QC.\n",
      "Finished file... \n",
      "\n",
      "In file: SA_231ppl_599K_hg19_ATGC_founders_geno01_maf_hwe_mind01_rel\n",
      "222 people (80 males, 142 females) loaded from .fam.\n",
      "--remove: 211 people remaining.\n",
      "462467 variants and 211 people pass filters and QC.\n",
      "Finished file... \n",
      "\n",
      "In file: SA_231ppl_599K_hg19_ATGC_phenos_founders_geno01_maf_hwe_mind01_rel\n",
      "35 people (11 males, 24 females) loaded from .fam.\n",
      "--remove: 33 people remaining.\n",
      "448488 variants and 33 people pass filters and QC.\n",
      "Finished file... \n",
      "\n"
     ]
    }
   ],
   "source": [
    "for file in glob.glob(\"02_Clean/*_rel.log\"):\n",
    "    with open(file) as myfile:\n",
    "        print(\"In file: \" + file.split(\"/\")[1].split(\".\")[0])\n",
    "        for num, line in enumerate(myfile, 1):\n",
    "            if \"people\" in line:\n",
    "                print(line, end='')\n",
    "        print(\"Finished file... \\n\")"
   ]
  }
 ],
 "metadata": {
  "kernelspec": {
   "display_name": "Python 3",
   "language": "python",
   "name": "python3"
  },
  "language_info": {
   "codemirror_mode": {
    "name": "ipython",
    "version": 3
   },
   "file_extension": ".py",
   "mimetype": "text/x-python",
   "name": "python",
   "nbconvert_exporter": "python",
   "pygments_lexer": "ipython3",
   "version": "3.6.5"
  }
 },
 "nbformat": 4,
 "nbformat_minor": 2
}
