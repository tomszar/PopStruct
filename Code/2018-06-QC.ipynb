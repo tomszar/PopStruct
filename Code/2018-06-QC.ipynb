{
 "cells": [
  {
   "cell_type": "markdown",
   "metadata": {},
   "source": [
    "# Quality Control\n",
    "\n",
    "This script will run a quality control pipeline in the genotype files.\n",
    "\n",
    "## Preliminaries\n",
    "\n",
    "First, let's import modules and set paths"
   ]
  },
  {
   "cell_type": "code",
   "execution_count": 2,
   "metadata": {},
   "outputs": [],
   "source": [
    "import glob, os, shutil, subprocess"
   ]
  },
  {
   "cell_type": "code",
   "execution_count": 3,
   "metadata": {},
   "outputs": [],
   "source": [
    "projpath  = os.path.realpath(\"..\")\n",
    "pathgenos = os.path.join(projpath, \"DataBases\", \"Genotypes\")"
   ]
  },
  {
   "cell_type": "markdown",
   "metadata": {},
   "source": [
    "## QC procedure\n",
    "\n",
    "First, we'll removed all nonfounders in our dataset (sample with a parental ID), and keep only autosomal chromosomes.\n",
    "Then, we'll clean our datasets by removing individuals and SNPs with high missing call rates (higher than 0.1), using --geno and --mind.\n",
    "Also, we'll remove SNPs with MAF below 0.01, and HWE p-value lower than 0.001.\n",
    "Finally, we will do a LD prune to run an IBD analysis and remove one individual from any pairs that shows 3rd degree kinship or closer (a pihat score ≥0.125). "
   ]
  },
  {
   "cell_type": "code",
   "execution_count": 4,
   "metadata": {},
   "outputs": [],
   "source": [
    "#Move directory\n",
    "os.chdir(pathgenos)"
   ]
  },
  {
   "cell_type": "code",
   "execution_count": 9,
   "metadata": {},
   "outputs": [
    {
     "name": "stdout",
     "output_type": "stream",
     "text": [
      "01_Original/TD2016_1M_181ppl\n",
      "01_Original/Euro180_176ppl_317K_hg19_ATGC\n",
      "01_Original/SA_231ppl_599K_hg19_ATGC\n",
      "01_Original/UIUC2013_116ppl_959K_hg19_ATGC\n",
      "01_Original/ADAPT_2784ppl_567K_hg19\n",
      "01_Original/CV_697ppl_964K_hg19_ATGC\n",
      "01_Original/TD2015_199ppl_1M_hg19_ATGC\n",
      "01_Original/CHP_1022ppl_114K_hg19_ATGC\n",
      "01_Original/FEMMES_20170425\n",
      "01_Original/UIUC2014_168ppl_703K_hg19_ATGC\n",
      "01_Original/UC_FEMMES_IDUpdated\n",
      "Finished\n"
     ]
    }
   ],
   "source": [
    "for file in glob.glob(\"01_Original/*.bed\"):\n",
    "    filename1 = file.split(\".\")[0]\n",
    "    print(filename1)\n",
    "    filename2 = \"02_Clean/\" + filename1.split(\"/\")[1]\n",
    "    subprocess.run([\"plink\", \"--bfile\", filename1, \"--filter-founders\", \"--autosome\", \"--make-bed\", \"--out\", filename2 + \"_founders\"])\n",
    "    #SNP missing rate\n",
    "    subprocess.run([\"plink\", \"--bfile\", filename2 + \"_founders\", \"--geno\", \"--make-bed\", \"--out\", filename2 + \"_founders_geno01\"])\n",
    "    #SNP MAF\n",
    "    subprocess.run([\"plink\", \"--bfile\", filename2 + \"_founders_geno01\", \"--maf\", \"--make-bed\", \"--out\", filename2 + \"_founders_geno01_maf\"])\n",
    "    #SNP HWE\n",
    "    subprocess.run([\"plink\", \"--bfile\", filename2 + \"_founders_geno01_maf\", \"--hwe\", \"0.001\", \"--make-bed\", \"--out\", filename2 + \"_founders_geno01_maf_hwe\"])\n",
    "    #Sample missing rate\n",
    "    subprocess.run([\"plink\", \"--bfile\", filename2 + \"_founders_geno01_maf_hwe\", \"--mind\", \"--make-bed\", \"--out\", filename2 + \"_founders_geno01_maf_hwe_mind01\"])\n",
    "    #Remove no sex in CHP\n",
    "    if \"CHP\" in filename1:\n",
    "        subprocess.run([\"plink\", \"--bfile\", filename2 + \"_founders_geno01_maf_hwe_mind01\", \"--remove\", filename2 + \"_founders_geno01_maf_hwe_mind01.nosex\", \n",
    "                        \"--make-bed\", \"--out\", filename2 + \"_founders_geno01_maf_hwe_mind01\"])\n",
    "    #LD prune for IBS\n",
    "    subprocess.run([\"plink\", \"--bfile\", filename2 + \"_founders_geno01_maf_hwe_mind01\", \"--indep\", \"50\", \"5\", \"2\", \"--out\", filename2 + \"_prune_temp\"])\n",
    "    #Print relatives\n",
    "    subprocess.run([\"plink\", \"--bfile\", filename2 + \"_founders_geno01_maf_hwe_mind01\", \"--exclude\", filename2 + \"_prune_temp\" + \".prune.out\", \n",
    "                    \"--genome\", \"--min\", \"0.125\", \"--out\", filename2 + \"_rel_temp\"])\n",
    "    #Remove samples in the first column\n",
    "    subprocess.run([\"plink\", \"--bfile\", filename2 + \"_founders_geno01_maf_hwe_mind01\", \"--remove\", filename2 + \"_rel_temp.genome\", \"--make-bed\", \"--out\", \n",
    "                    filename2 + \"_founders_geno01_maf_hwe_mind01_rel\"])\n",
    "        \n",
    "print(\"Finished\")"
   ]
  },
  {
   "cell_type": "code",
   "execution_count": 11,
   "metadata": {},
   "outputs": [],
   "source": [
    "#Remove intermediary files\n",
    "removefiles =  glob.glob(\"02_Clean/*_founders.*\") + glob.glob(\"02_Clean/*_geno01.*\") + glob.glob(\"02_Clean/*_maf.*\") + glob.glob(\"02_Clean/*_hwe.*\") + glob.glob(\"02_Clean/*_temp*\") + glob.glob(\"02_Clean/*_mind01.*\")\n",
    "for file in removefiles:\n",
    "    os.remove(file)"
   ]
  },
  {
   "cell_type": "markdown",
   "metadata": {},
   "source": [
    "Let's us look at how many SNPs ended in each dataset."
   ]
  },
  {
   "cell_type": "code",
   "execution_count": 13,
   "metadata": {},
   "outputs": [
    {
     "name": "stdout",
     "output_type": "stream",
     "text": [
      "In file: UIUC2013_116ppl_959K_hg19_ATGC_founders_geno01_maf_hwe_mind01_rel\n",
      "846249 variants loaded from .bim file.\n",
      "846249 variants and 91 people pass filters and QC.\n",
      "Finished file... \n",
      "\n",
      "In file: TD2015_199ppl_1M_hg19_ATGC_founders_geno01_maf_hwe_mind01_rel\n",
      "500446 variants loaded from .bim file.\n",
      "500446 variants and 113 people pass filters and QC.\n",
      "Finished file... \n",
      "\n",
      "In file: UIUC2014_168ppl_703K_hg19_ATGC_founders_geno01_maf_hwe_mind01_rel\n",
      "500509 variants loaded from .bim file.\n",
      "500509 variants and 153 people pass filters and QC.\n",
      "Finished file... \n",
      "\n",
      "In file: ADAPT_2784ppl_567K_hg19_founders_geno01_maf_hwe_mind01_rel\n",
      "429925 variants loaded from .bim file.\n",
      "429925 variants and 2374 people pass filters and QC.\n",
      "Finished file... \n",
      "\n",
      "In file: Euro180_176ppl_317K_hg19_ATGC_founders_geno01_maf_hwe_mind01_rel\n",
      "304153 variants loaded from .bim file.\n",
      "304153 variants and 176 people pass filters and QC.\n",
      "Finished file... \n",
      "\n",
      "In file: CHP_1022ppl_114K_hg19_ATGC_founders_geno01_maf_hwe_mind01_rel\n",
      "102859 variants loaded from .bim file.\n",
      "102859 variants and 243 people pass filters and QC.\n",
      "Finished file... \n",
      "\n",
      "In file: UC_FEMMES_IDUpdated_founders_geno01_maf_hwe_mind01_rel\n",
      "104641 variants loaded from .bim file.\n",
      "104641 variants and 229 people pass filters and QC.\n",
      "Finished file... \n",
      "\n",
      "In file: TD2016_1M_181ppl_founders_geno01_maf_hwe_mind01_rel\n",
      "595882 variants loaded from .bim file.\n",
      "595882 variants and 89 people pass filters and QC.\n",
      "Finished file... \n",
      "\n",
      "In file: CV_697ppl_964K_hg19_ATGC_founders_geno01_maf_hwe_mind01_rel\n",
      "875711 variants loaded from .bim file.\n",
      "875711 variants and 657 people pass filters and QC.\n",
      "Finished file... \n",
      "\n",
      "In file: FEMMES_20170425_founders_geno01_maf_hwe_mind01_rel\n",
      "513138 variants loaded from .bim file.\n",
      "513138 variants and 235 people pass filters and QC.\n",
      "Finished file... \n",
      "\n",
      "In file: SA_231ppl_599K_hg19_ATGC_founders_geno01_maf_hwe_mind01_rel\n",
      "510819 variants loaded from .bim file.\n",
      "510819 variants and 211 people pass filters and QC.\n",
      "Finished file... \n",
      "\n"
     ]
    }
   ],
   "source": [
    "for file in glob.glob(\"02_Clean/*_rel.log\"):\n",
    "    with open(file) as myfile:\n",
    "        print(\"In file: \" + file.split(\"/\")[1].split(\".\")[0])\n",
    "        for num, line in enumerate(myfile, 1):\n",
    "            if \"variants\" in line:\n",
    "                print(line, end='')\n",
    "        print(\"Finished file... \\n\")"
   ]
  },
  {
   "cell_type": "markdown",
   "metadata": {},
   "source": [
    "Let's us look at how many samples were removed in each dataset."
   ]
  },
  {
   "cell_type": "code",
   "execution_count": 14,
   "metadata": {},
   "outputs": [
    {
     "name": "stdout",
     "output_type": "stream",
     "text": [
      "In file: UIUC2013_116ppl_959K_hg19_ATGC_founders_geno01_maf_hwe_mind01_rel\n",
      "115 people (34 males, 81 females) loaded from .fam.\n",
      "--remove: 91 people remaining.\n",
      "846249 variants and 91 people pass filters and QC.\n",
      "Finished file... \n",
      "\n",
      "In file: TD2015_199ppl_1M_hg19_ATGC_founders_geno01_maf_hwe_mind01_rel\n",
      "182 people (28 males, 154 females) loaded from .fam.\n",
      "--remove: 113 people remaining.\n",
      "500446 variants and 113 people pass filters and QC.\n",
      "Finished file... \n",
      "\n",
      "In file: UIUC2014_168ppl_703K_hg19_ATGC_founders_geno01_maf_hwe_mind01_rel\n",
      "166 people (75 males, 91 females) loaded from .fam.\n",
      "--remove: 153 people remaining.\n",
      "500509 variants and 153 people pass filters and QC.\n",
      "Finished file... \n",
      "\n",
      "In file: ADAPT_2784ppl_567K_hg19_founders_geno01_maf_hwe_mind01_rel\n",
      "2702 people (1007 males, 1695 females) loaded from .fam.\n",
      "--remove: 2374 people remaining.\n",
      "429925 variants and 2374 people pass filters and QC.\n",
      "Finished file... \n",
      "\n",
      "In file: Euro180_176ppl_317K_hg19_ATGC_founders_geno01_maf_hwe_mind01_rel\n",
      "176 people (0 males, 176 females) loaded from .fam.\n",
      "--remove: 176 people remaining.\n",
      "304153 variants and 176 people pass filters and QC.\n",
      "Finished file... \n",
      "\n",
      "In file: CHP_1022ppl_114K_hg19_ATGC_founders_geno01_maf_hwe_mind01_rel\n",
      "919 people (332 males, 587 females) loaded from .fam.\n",
      "--remove: 243 people remaining.\n",
      "102859 variants and 243 people pass filters and QC.\n",
      "Finished file... \n",
      "\n",
      "In file: UC_FEMMES_IDUpdated_founders_geno01_maf_hwe_mind01_rel\n",
      "248 people (0 males, 0 females, 248 ambiguous) loaded from .fam.\n",
      "--remove: 229 people remaining.\n",
      "104641 variants and 229 people pass filters and QC.\n",
      "Finished file... \n",
      "\n",
      "In file: TD2016_1M_181ppl_founders_geno01_maf_hwe_mind01_rel\n",
      "181 people (40 males, 141 females) loaded from .fam.\n",
      "--remove: 89 people remaining.\n",
      "595882 variants and 89 people pass filters and QC.\n",
      "Finished file... \n",
      "\n",
      "In file: CV_697ppl_964K_hg19_ATGC_founders_geno01_maf_hwe_mind01_rel\n",
      "697 people (285 males, 412 females) loaded from .fam.\n",
      "--remove: 657 people remaining.\n",
      "875711 variants and 657 people pass filters and QC.\n",
      "Finished file... \n",
      "\n",
      "In file: FEMMES_20170425_founders_geno01_maf_hwe_mind01_rel\n",
      "236 people (0 males, 236 females) loaded from .fam.\n",
      "--remove: 235 people remaining.\n",
      "513138 variants and 235 people pass filters and QC.\n",
      "Finished file... \n",
      "\n",
      "In file: SA_231ppl_599K_hg19_ATGC_founders_geno01_maf_hwe_mind01_rel\n",
      "222 people (80 males, 142 females) loaded from .fam.\n",
      "--remove: 211 people remaining.\n",
      "510819 variants and 211 people pass filters and QC.\n",
      "Finished file... \n",
      "\n"
     ]
    }
   ],
   "source": [
    "for file in glob.glob(\"02_Clean/*_rel.log\"):\n",
    "    with open(file) as myfile:\n",
    "        print(\"In file: \" + file.split(\"/\")[1].split(\".\")[0])\n",
    "        for num, line in enumerate(myfile, 1):\n",
    "            if \"people\" in line:\n",
    "                print(line, end='')\n",
    "        print(\"Finished file... \\n\")"
   ]
  }
 ],
 "metadata": {
  "kernelspec": {
   "display_name": "Python 3",
   "language": "python",
   "name": "python3"
  },
  "language_info": {
   "codemirror_mode": {
    "name": "ipython",
    "version": 3
   },
   "file_extension": ".py",
   "mimetype": "text/x-python",
   "name": "python",
   "nbconvert_exporter": "python",
   "pygments_lexer": "ipython3",
   "version": "3.6.5"
  }
 },
 "nbformat": 4,
 "nbformat_minor": 2
}
