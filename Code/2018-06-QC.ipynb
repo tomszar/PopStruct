{
 "cells": [
  {
   "cell_type": "markdown",
   "metadata": {},
   "source": [
    "# Quality Control\n",
    "\n",
    "This script will run a quality control pipeline in the genotype files.\n",
    "\n",
    "## Preliminaries\n",
    "\n",
    "First, let's import modules and set paths"
   ]
  },
  {
   "cell_type": "code",
   "execution_count": 1,
   "metadata": {},
   "outputs": [],
   "source": [
    "import glob, os, shutil, subprocess\n",
    "import pandas as pd\n",
    "from GenotypeQC import QC_procedure"
   ]
  },
  {
   "cell_type": "code",
   "execution_count": 2,
   "metadata": {},
   "outputs": [],
   "source": [
    "projpath  = os.path.realpath(\"..\")\n",
    "pathgenos = os.path.join(projpath, \"DataBases\", \"Genotypes\")"
   ]
  },
  {
   "cell_type": "markdown",
   "metadata": {},
   "source": [
    "## QC procedure\n",
    "\n",
    "The QC procedure runs as follows:\n",
    "\n",
    "1. Removed founders, that is, individuals with at least one parent in the dataset, and retained only autosomal chromosomes\n",
    "2. Removed SNPs with missing call rates higher than 0.1\n",
    "3. Removed SNPs with minor allele frequencies below 0.05\n",
    "4. Removed SNPs with hardy-weinberg equilibrium p-values less than 1e-50\n",
    "5. Removed samples with missing call rates higher than 0.1\n",
    "6. Removed one arbitrary individual from any pairwise comparison with a pihat >= 0.25 from an IBD estimation after LD prune\n",
    "\n",
    "QC in all samples"
   ]
  },
  {
   "cell_type": "code",
   "execution_count": 9,
   "metadata": {},
   "outputs": [
    {
     "name": "stdout",
     "output_type": "stream",
     "text": [
      "Running CHP_1022ppl_114K_hg19_ATGC file...\n",
      "Removing SNPs with missing call rates higher than 0.1...\n",
      "Removing SNPs with minor allele frequencies below 0.05...\n",
      "Removing SNPs with hardy-weinberg equilibrium p-values less than 1e-50...\n",
      "Removing samples with missing call rates higher than 0.1...\n",
      "Removing one arbitrary individual from any pairwise comparison with a pihat higher than 0.25...\n",
      "Generating final plink file...\n",
      "Running Euro180_176ppl_317K_hg19_ATGC file...\n",
      "Removing SNPs with missing call rates higher than 0.1...\n",
      "Removing SNPs with minor allele frequencies below 0.05...\n",
      "Removing SNPs with hardy-weinberg equilibrium p-values less than 1e-50...\n",
      "Removing samples with missing call rates higher than 0.1...\n",
      "Removing one arbitrary individual from any pairwise comparison with a pihat higher than 0.25...\n",
      "Generating final plink file...\n",
      "Running FEMMES_20170425 file...\n",
      "Removing SNPs with missing call rates higher than 0.1...\n",
      "Removing SNPs with minor allele frequencies below 0.05...\n",
      "Removing SNPs with hardy-weinberg equilibrium p-values less than 1e-50...\n",
      "Removing samples with missing call rates higher than 0.1...\n",
      "Removing one arbitrary individual from any pairwise comparison with a pihat higher than 0.25...\n",
      "Generating final plink file...\n",
      "Running TD2016_1M_181ppl file...\n",
      "Removing SNPs with missing call rates higher than 0.1...\n",
      "Removing SNPs with minor allele frequencies below 0.05...\n",
      "Removing SNPs with hardy-weinberg equilibrium p-values less than 1e-50...\n",
      "Removing samples with missing call rates higher than 0.1...\n",
      "Removing one arbitrary individual from any pairwise comparison with a pihat higher than 0.25...\n",
      "Generating final plink file...\n",
      "Running SA_231ppl_599K_hg19_ATGC file...\n",
      "Removing SNPs with missing call rates higher than 0.1...\n",
      "Removing SNPs with minor allele frequencies below 0.05...\n",
      "Removing SNPs with hardy-weinberg equilibrium p-values less than 1e-50...\n",
      "Removing samples with missing call rates higher than 0.1...\n",
      "Removing one arbitrary individual from any pairwise comparison with a pihat higher than 0.25...\n",
      "Generating final plink file...\n",
      "Running UIUC2014_168ppl_703K_hg19_ATGC file...\n",
      "Removing SNPs with missing call rates higher than 0.1...\n",
      "Removing SNPs with minor allele frequencies below 0.05...\n",
      "Removing SNPs with hardy-weinberg equilibrium p-values less than 1e-50...\n",
      "Removing samples with missing call rates higher than 0.1...\n",
      "Removing one arbitrary individual from any pairwise comparison with a pihat higher than 0.25...\n",
      "Generating final plink file...\n",
      "Running UC_FEMMES_IDUpdated file...\n",
      "Removing SNPs with missing call rates higher than 0.1...\n",
      "Removing SNPs with minor allele frequencies below 0.05...\n",
      "Removing SNPs with hardy-weinberg equilibrium p-values less than 1e-50...\n",
      "Removing samples with missing call rates higher than 0.1...\n",
      "Removing one arbitrary individual from any pairwise comparison with a pihat higher than 0.25...\n",
      "Generating final plink file...\n",
      "Running ADAPT_2784ppl_567K_hg19 file...\n",
      "Removing SNPs with missing call rates higher than 0.1...\n",
      "Removing SNPs with minor allele frequencies below 0.05...\n",
      "Removing SNPs with hardy-weinberg equilibrium p-values less than 1e-50...\n",
      "Removing samples with missing call rates higher than 0.1...\n",
      "Removing one arbitrary individual from any pairwise comparison with a pihat higher than 0.25...\n",
      "Generating final plink file...\n",
      "Running CV_697ppl_964K_hg19_ATGC file...\n",
      "Removing SNPs with missing call rates higher than 0.1...\n",
      "Removing SNPs with minor allele frequencies below 0.05...\n",
      "Removing SNPs with hardy-weinberg equilibrium p-values less than 1e-50...\n",
      "Removing samples with missing call rates higher than 0.1...\n",
      "Removing one arbitrary individual from any pairwise comparison with a pihat higher than 0.25...\n",
      "Generating final plink file...\n",
      "Running UIUC2013_116ppl_959K_hg19_ATGC file...\n",
      "Removing SNPs with missing call rates higher than 0.1...\n",
      "Removing SNPs with minor allele frequencies below 0.05...\n",
      "Removing SNPs with hardy-weinberg equilibrium p-values less than 1e-50...\n",
      "Removing samples with missing call rates higher than 0.1...\n",
      "Removing one arbitrary individual from any pairwise comparison with a pihat higher than 0.25...\n",
      "Generating final plink file...\n",
      "Running TD2015_199ppl_1M_hg19_ATGC file...\n",
      "Removing SNPs with missing call rates higher than 0.1...\n",
      "Removing SNPs with minor allele frequencies below 0.05...\n",
      "Removing SNPs with hardy-weinberg equilibrium p-values less than 1e-50...\n",
      "Removing samples with missing call rates higher than 0.1...\n",
      "Removing one arbitrary individual from any pairwise comparison with a pihat higher than 0.25...\n",
      "Generating final plink file...\n",
      "Finished\n"
     ]
    }
   ],
   "source": [
    "#Move directory and run QC procedure\n",
    "os.chdir(os.path.join(pathgenos, \"01_Original\"))\n",
    "QC_procedure()\n",
    "\n",
    "#Remove no sex individuals in CHP (plates)\n",
    "os.chdir(os.path.join(pathgenos, \"01_Original\", \"QC\"))\n",
    "\n",
    "for file in glob.glob(\"CHP*.bed\"):\n",
    "    filename1 = file.split(\".\")[0]\n",
    "    subprocess.run([\"plink\", \"--bfile\", filename1, \"--remove\", filename1 + \".nosex\", \n",
    "                        \"--make-bed\", \"--out\", filename1])"
   ]
  },
  {
   "cell_type": "markdown",
   "metadata": {},
   "source": [
    "QC in _phenos subset"
   ]
  },
  {
   "cell_type": "markdown",
   "metadata": {},
   "source": [
    "Moving files to 02_Clean folder, and remove some intermediary files"
   ]
  },
  {
   "cell_type": "code",
   "execution_count": 11,
   "metadata": {},
   "outputs": [],
   "source": [
    "#Removing original phenos files in 02_Clean\n",
    "outpath = os.path.join(pathgenos, \"02_Clean\")\n",
    "os.chdir(outpath)\n",
    "\n",
    "for file in glob.glob(\"*phenos*\"):\n",
    "    os.remove(file)\n",
    "    \n",
    "os.chdir(os.path.join(pathgenos, \"01_Original\", \"QC\"))\n",
    "for file in glob.glob(\"*_rel*\"):\n",
    "    shutil.move(file, os.path.join(outpath, file))\n"
   ]
  },
  {
   "cell_type": "markdown",
   "metadata": {},
   "source": [
    "Let's us look at how many SNPs and individuals ended in each dataset."
   ]
  },
  {
   "cell_type": "code",
   "execution_count": 12,
   "metadata": {},
   "outputs": [
    {
     "name": "stdout",
     "output_type": "stream",
     "text": [
      "In file: SA_231ppl_599K_hg19_ATGC_founders_geno01_maf_hwe_mind01_rel.log\n",
      "463587 variants loaded from .bim file.\n",
      "463587 variants and 212 people pass filters and QC.\n",
      "Finished file... \n",
      "\n",
      "In file: TD2016_1M_181ppl_founders_geno01_maf_hwe_mind01_rel.log\n",
      "432012 variants loaded from .bim file.\n",
      "432012 variants and 92 people pass filters and QC.\n",
      "Finished file... \n",
      "\n",
      "In file: TD2015_199ppl_1M_hg19_ATGC_founders_geno01_maf_hwe_mind01_rel.log\n",
      "458109 variants loaded from .bim file.\n",
      "458109 variants and 113 people pass filters and QC.\n",
      "Finished file... \n",
      "\n",
      "In file: UIUC2014_168ppl_703K_hg19_ATGC_founders_geno01_maf_hwe_mind01_rel.log\n",
      "458402 variants loaded from .bim file.\n",
      "458402 variants and 164 people pass filters and QC.\n",
      "Finished file... \n",
      "\n",
      "In file: CV_697ppl_964K_hg19_ATGC_founders_geno01_maf_hwe_mind01_rel.log\n",
      "791872 variants loaded from .bim file.\n",
      "791872 variants and 684 people pass filters and QC.\n",
      "Finished file... \n",
      "\n",
      "In file: UC_FEMMES_IDUpdated_founders_geno01_maf_hwe_mind01_rel.log\n",
      "92995 variants loaded from .bim file.\n",
      "92995 variants and 232 people pass filters and QC.\n",
      "Finished file... \n",
      "\n",
      "In file: Euro180_176ppl_317K_hg19_ATGC_founders_geno01_maf_hwe_mind01_rel.log\n",
      "296829 variants loaded from .bim file.\n",
      "296829 variants and 176 people pass filters and QC.\n",
      "Finished file... \n",
      "\n",
      "In file: FEMMES_20170425_founders_geno01_maf_hwe_mind01_rel.log\n",
      "465869 variants loaded from .bim file.\n",
      "465869 variants and 235 people pass filters and QC.\n",
      "Finished file... \n",
      "\n",
      "In file: ADAPT_2784ppl_567K_hg19_founders_geno01_maf_hwe_mind01_rel.log\n",
      "465631 variants loaded from .bim file.\n",
      "465631 variants and 2661 people pass filters and QC.\n",
      "Finished file... \n",
      "\n",
      "In file: CHP_1022ppl_114K_hg19_ATGC_founders_geno01_maf_hwe_mind01_rel.log\n",
      "92991 variants loaded from .bim file.\n",
      "92991 variants and 389 people pass filters and QC.\n",
      "Finished file... \n",
      "\n",
      "In file: UIUC2013_116ppl_959K_hg19_ATGC_founders_geno01_maf_hwe_mind01_rel.log\n",
      "778835 variants loaded from .bim file.\n",
      "778835 variants and 114 people pass filters and QC.\n",
      "Finished file... \n",
      "\n"
     ]
    }
   ],
   "source": [
    "os.chdir(outpath)\n",
    "for file in glob.glob(\"*_rel.log\"):\n",
    "    with open(file) as myfile:\n",
    "        print(\"In file: \" + file)\n",
    "        for num, line in enumerate(myfile, 1):\n",
    "            if \"variants\" in line:\n",
    "                print(line, end='')\n",
    "        print(\"Finished file... \\n\")"
   ]
  }
 ],
 "metadata": {
  "kernelspec": {
   "display_name": "Python 3",
   "language": "python",
   "name": "python3"
  },
  "language_info": {
   "codemirror_mode": {
    "name": "ipython",
    "version": 3
   },
   "file_extension": ".py",
   "mimetype": "text/x-python",
   "name": "python",
   "nbconvert_exporter": "python",
   "pygments_lexer": "ipython3",
   "version": "3.6.5"
  }
 },
 "nbformat": 4,
 "nbformat_minor": 2
}
