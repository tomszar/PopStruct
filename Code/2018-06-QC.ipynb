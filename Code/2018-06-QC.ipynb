{
 "cells": [
  {
   "cell_type": "markdown",
   "metadata": {},
   "source": [
    "# Quality Control\n",
    "\n",
    "This script will assess quality control in the genotypes and related information.\n",
    "Specifically, we will check sex information, remove individuals and genotypes with low call rates, and update any information on pressence of relatives.\n",
    "\n",
    "## Preliminaries\n",
    "\n",
    "First, let's import modules and set paths"
   ]
  },
  {
   "cell_type": "code",
   "execution_count": 1,
   "metadata": {},
   "outputs": [],
   "source": [
    "import glob, os, shutil, subprocess, csv, time\n",
    "import pandas as pd\n",
    "import numpy as np"
   ]
  },
  {
   "cell_type": "code",
   "execution_count": 2,
   "metadata": {},
   "outputs": [],
   "source": [
    "projpath  = os.path.realpath(\"..\")\n",
    "pathgenos = os.path.join(projpath, \"DataBases\", \"Genotypes\")"
   ]
  },
  {
   "cell_type": "markdown",
   "metadata": {},
   "source": [
    "## Missing call rates\n",
    "\n",
    "First, we will clean our datasets by removing individuals and SNPs with high missing call rates (higher than 0.1), using --geno and --mind."
   ]
  },
  {
   "cell_type": "code",
   "execution_count": null,
   "metadata": {},
   "outputs": [],
   "source": [
    "#Move directory\n",
    "os.chdir(pathgenos)"
   ]
  },
  {
   "cell_type": "code",
   "execution_count": 33,
   "metadata": {},
   "outputs": [
    {
     "name": "stdout",
     "output_type": "stream",
     "text": [
      "01_Original/TD2016_1M_181ppl\n",
      "01_Original/Euro180_176ppl_317K_hg19_ATGC\n",
      "01_Original/SA_231ppl_599K_hg19_ATGC\n",
      "01_Original/UIUC2013_116ppl_959K_hg19_ATGC\n",
      "01_Original/CV_697ppl_954K_hg19_ATGC\n",
      "01_Original/ADAPT_2784ppl_567K_hg19\n",
      "01_Original/TD2015_199ppl_1M_hg19_ATGC\n",
      "01_Original/CHP_1022ppl_114K_hg19_ATGC\n",
      "01_Original/FEMMES_20170425\n",
      "01_Original/UIUC2014_168ppl_703K_hg19_ATGC\n",
      "01_Original/UC_FEMMES_IDUpdated\n",
      "Finished\n"
     ]
    }
   ],
   "source": [
    "for file in glob.glob(\"01_Original/*.bed\"):\n",
    "    filename1 = file.split(\".\")[0]\n",
    "    print(filename1)\n",
    "    filename2 = \"02_Clean/\" + filename1.split(\"/\")[1]\n",
    "    #SNP missing rate\n",
    "    subprocess.run([\"plink\", \"--bfile\", filename1, \"--geno\", \"--make-bed\", \"--out\", filename2 + \"_geno01\"])\n",
    "    #Sample missing rate\n",
    "    subprocess.run([\"plink\", \"--bfile\", filename2 + \"_geno01\", \"--mind\", \"--make-bed\", \"--out\", filename2 + \"_geno01_mind01\"])\n",
    "    \n",
    "print(\"Finished\")"
   ]
  },
  {
   "cell_type": "markdown",
   "metadata": {},
   "source": [
    "Let's us look at how many SNPs were removed in each dataset."
   ]
  },
  {
   "cell_type": "code",
   "execution_count": 35,
   "metadata": {},
   "outputs": [
    {
     "name": "stdout",
     "output_type": "stream",
     "text": [
      "In file: Euro180_176ppl_317K_hg19_ATGC_geno01\n",
      "317503 variants loaded from .bim file.\n",
      "3416 variants removed due to missing genotype data (--geno).\n",
      "314087 variants and 176 people pass filters and QC.\n",
      "Finished file... \n",
      "\n",
      "In file: TD2016_1M_181ppl_geno01\n",
      "1121300 variants loaded from .bim file.\n",
      "0 variants removed due to missing genotype data (--geno).\n",
      "1121300 variants and 181 people pass filters and QC.\n",
      "Finished file... \n",
      "\n",
      "In file: UIUC2013_116ppl_959K_hg19_ATGC_geno01\n",
      "959801 variants loaded from .bim file.\n",
      "30164 variants removed due to missing genotype data (--geno).\n",
      "929637 variants and 116 people pass filters and QC.\n",
      "Finished file... \n",
      "\n",
      "In file: CHP_1022ppl_114K_hg19_ATGC_geno01\n",
      "114495 variants loaded from .bim file.\n",
      "1132 variants removed due to missing genotype data (--geno).\n",
      "113363 variants and 1022 people pass filters and QC.\n",
      "Finished file... \n",
      "\n",
      "In file: SA_231ppl_599K_hg19_ATGC_geno01\n",
      "599830 variants loaded from .bim file.\n",
      "25248 variants removed due to missing genotype data (--geno).\n",
      "574582 variants and 231 people pass filters and QC.\n",
      "Finished file... \n",
      "\n",
      "In file: FEMMES_20170425_geno01\n",
      "597454 variants loaded from .bim file.\n",
      "6856 variants removed due to missing genotype data (--geno).\n",
      "590598 variants and 246 people pass filters and QC.\n",
      "Finished file... \n",
      "\n",
      "In file: CV_697ppl_954K_hg19_ATGC_geno01\n",
      "954008 variants loaded from .bim file.\n",
      "0 variants removed due to missing genotype data (--geno).\n",
      "954008 variants and 697 people pass filters and QC.\n",
      "Finished file... \n",
      "\n",
      "In file: ADAPT_2784ppl_567K_hg19_geno01\n",
      "1060536 variants loaded from .bim file.\n",
      "492748 variants removed due to missing genotype data (--geno).\n",
      "567788 variants and 2784 people pass filters and QC.\n",
      "Finished file... \n",
      "\n",
      "In file: UIUC2014_168ppl_703K_hg19_ATGC_geno01\n",
      "703708 variants loaded from .bim file.\n",
      "141586 variants removed due to missing genotype data (--geno).\n",
      "562122 variants and 168 people pass filters and QC.\n",
      "Finished file... \n",
      "\n",
      "In file: UC_FEMMES_IDUpdated_geno01\n",
      "593440 variants loaded from .bim file.\n",
      "482514 variants removed due to missing genotype data (--geno).\n",
      "110926 variants and 248 people pass filters and QC.\n",
      "Finished file... \n",
      "\n",
      "In file: TD2015_199ppl_1M_hg19_ATGC_geno01\n",
      "1034392 variants loaded from .bim file.\n",
      "455850 variants removed due to missing genotype data (--geno).\n",
      "578542 variants and 199 people pass filters and QC.\n",
      "Finished file... \n",
      "\n"
     ]
    }
   ],
   "source": [
    "for file in glob.glob(\"02_Clean/*geno01.log\"):\n",
    "    with open(file) as myfile:\n",
    "        print(\"In file: \" + file.split(\"/\")[1].split(\".\")[0])\n",
    "        for num, line in enumerate(myfile, 1):\n",
    "            if \"variants\" in line:\n",
    "                print(line, end='')\n",
    "        print(\"Finished file... \\n\")"
   ]
  },
  {
   "cell_type": "markdown",
   "metadata": {},
   "source": [
    "Let's us look at how many samples were removed in each dataset."
   ]
  },
  {
   "cell_type": "code",
   "execution_count": 38,
   "metadata": {},
   "outputs": [
    {
     "name": "stdout",
     "output_type": "stream",
     "text": [
      "In file: UIUC2013_116ppl_959K_hg19_ATGC_geno01_mind01\n",
      "116 people (34 males, 82 females) loaded from .fam.\n",
      "0 people removed due to missing genotype data (--mind).\n",
      "929637 variants and 116 people pass filters and QC.\n",
      "Finished file... \n",
      "\n",
      "In file: TD2015_199ppl_1M_hg19_ATGC_geno01_mind01\n",
      "199 people (32 males, 167 females) loaded from .fam.\n",
      "578542 variants and 198 people pass filters and QC.\n",
      "Finished file... \n",
      "\n",
      "In file: SA_231ppl_599K_hg19_ATGC_geno01_mind01\n",
      "231 people (85 males, 146 females) loaded from .fam.\n",
      "0 people removed due to missing genotype data (--mind).\n",
      "574582 variants and 231 people pass filters and QC.\n",
      "Finished file... \n",
      "\n",
      "In file: UC_FEMMES_IDUpdated_geno01_mind01\n",
      "248 people (0 males, 0 females, 248 ambiguous) loaded from .fam.\n",
      "0 people removed due to missing genotype data (--mind).\n",
      "110926 variants and 248 people pass filters and QC.\n",
      "Finished file... \n",
      "\n",
      "In file: ADAPT_2784ppl_567K_hg19_geno01_mind01\n",
      "2784 people (1030 males, 1754 females) loaded from .fam.\n",
      "5 people removed due to missing genotype data (--mind).\n",
      "567788 variants and 2779 people pass filters and QC.\n",
      "Finished file... \n",
      "\n",
      "In file: FEMMES_20170425_geno01_mind01\n",
      "246 people (1 male, 245 females) loaded from .fam.\n",
      "0 people removed due to missing genotype data (--mind).\n",
      "590598 variants and 246 people pass filters and QC.\n",
      "Finished file... \n",
      "\n",
      "In file: UIUC2014_168ppl_703K_hg19_ATGC_geno01_mind01\n",
      "168 people (76 males, 92 females) loaded from .fam.\n",
      "562122 variants and 167 people pass filters and QC.\n",
      "Finished file... \n",
      "\n",
      "In file: TD2016_1M_181ppl_geno01_mind01\n",
      "181 people (40 males, 141 females) loaded from .fam.\n",
      "0 people removed due to missing genotype data (--mind).\n",
      "1121300 variants and 181 people pass filters and QC.\n",
      "Finished file... \n",
      "\n",
      "In file: CV_697ppl_954K_hg19_ATGC_geno01_mind01\n",
      "697 people (0 males, 0 females, 697 ambiguous) loaded from .fam.\n",
      "0 people removed due to missing genotype data (--mind).\n",
      "954008 variants and 697 people pass filters and QC.\n",
      "Finished file... \n",
      "\n",
      "In file: CHP_1022ppl_114K_hg19_ATGC_geno01_mind01\n",
      "1022 people (333 males, 592 females, 97 ambiguous) loaded from .fam.\n",
      "25 people removed due to missing genotype data (--mind).\n",
      "113363 variants and 997 people pass filters and QC.\n",
      "Finished file... \n",
      "\n",
      "In file: Euro180_176ppl_317K_hg19_ATGC_geno01_mind01\n",
      "176 people (0 males, 176 females) loaded from .fam.\n",
      "0 people removed due to missing genotype data (--mind).\n",
      "314087 variants and 176 people pass filters and QC.\n",
      "Finished file... \n",
      "\n"
     ]
    }
   ],
   "source": [
    "for file in glob.glob(\"02_Clean/*geno01_mind01.log\"):\n",
    "    with open(file) as myfile:\n",
    "        print(\"In file: \" + file.split(\"/\")[1].split(\".\")[0])\n",
    "        for num, line in enumerate(myfile, 1):\n",
    "            if \"people\" in line:\n",
    "                print(line, end='')\n",
    "        print(\"Finished file... \\n\")"
   ]
  }
 ],
 "metadata": {
  "kernelspec": {
   "display_name": "Python 3",
   "language": "python",
   "name": "python3"
  },
  "language_info": {
   "codemirror_mode": {
    "name": "ipython",
    "version": 3
   },
   "file_extension": ".py",
   "mimetype": "text/x-python",
   "name": "python",
   "nbconvert_exporter": "python",
   "pygments_lexer": "ipython3",
   "version": "3.6.4"
  }
 },
 "nbformat": 4,
 "nbformat_minor": 2
}
