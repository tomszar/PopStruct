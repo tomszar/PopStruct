{
 "cells": [
  {
   "cell_type": "markdown",
   "metadata": {},
   "source": [
    "# Quality Control\n",
    "\n",
    "This script will assess quality control in the genotypes files.\n",
    "Specifically, we will remove individuals and genotypes with low call rates. \n",
    "\n",
    "## Preliminaries\n",
    "\n",
    "First, let's import modules and set paths"
   ]
  },
  {
   "cell_type": "code",
   "execution_count": 1,
   "metadata": {},
   "outputs": [],
   "source": [
    "import glob, os, shutil, subprocess"
   ]
  },
  {
   "cell_type": "code",
   "execution_count": 2,
   "metadata": {},
   "outputs": [],
   "source": [
    "projpath  = os.path.realpath(\"..\")\n",
    "pathgenos = os.path.join(projpath, \"DataBases\", \"Genotypes\")"
   ]
  },
  {
   "cell_type": "markdown",
   "metadata": {},
   "source": [
    "## QC procedure\n",
    "\n",
    "First, we removed all nonfounders in our dataset (sample with a parental ID).\n",
    "Then, we will clean our datasets by removing individuals and SNPs with high missing call rates (higher than 0.1), using --geno and --mind.\n",
    "Also, we will remove SNPs with MAF below 0.01, and HWE p-value lower than 0.001.\n",
    "Finally, we will do a LD prune to run an IBD analysis and remove one individual from any pairs that showed 3rd degree kinship or closer (a pihat score ≥0.09). "
   ]
  },
  {
   "cell_type": "code",
   "execution_count": 3,
   "metadata": {},
   "outputs": [],
   "source": [
    "#Move directory\n",
    "os.chdir(pathgenos)"
   ]
  },
  {
   "cell_type": "code",
   "execution_count": 9,
   "metadata": {},
   "outputs": [
    {
     "name": "stdout",
     "output_type": "stream",
     "text": [
      "01_Original/TD2016_1M_181ppl\n",
      "01_Original/Euro180_176ppl_317K_hg19_ATGC\n",
      "01_Original/SA_231ppl_599K_hg19_ATGC\n",
      "01_Original/UIUC2013_116ppl_959K_hg19_ATGC\n",
      "01_Original/ADAPT_2784ppl_567K_hg19\n",
      "01_Original/CV_697ppl_964K_hg19_ATGC\n",
      "01_Original/TD2015_199ppl_1M_hg19_ATGC\n",
      "01_Original/CHP_1022ppl_114K_hg19_ATGC\n",
      "01_Original/FEMMES_20170425\n",
      "01_Original/UIUC2014_168ppl_703K_hg19_ATGC\n",
      "01_Original/UC_FEMMES_IDUpdated\n",
      "Finished\n"
     ]
    }
   ],
   "source": [
    "for file in glob.glob(\"01_Original/*.bed\"):\n",
    "    filename1 = file.split(\".\")[0]\n",
    "    print(filename1)\n",
    "    filename2 = \"02_Clean/\" + filename1.split(\"/\")[1]\n",
    "    subprocess.run([\"plink\", \"--bfile\", filename1, \"--filter-founders\", \"--make-bed\", \"--out\", filename2 + \"_founders\"])\n",
    "    #SNP missing rate\n",
    "    subprocess.run([\"plink\", \"--bfile\", filename2 + \"_founders\", \"--geno\", \"--make-bed\", \"--out\", filename2 + \"_founders_geno01\"])\n",
    "    #SNP MAF\n",
    "    subprocess.run([\"plink\", \"--bfile\", filename2 + \"_founders_geno01\", \"--maf\", \"--make-bed\", \"--out\", filename2 + \"_founders_geno01_maf\"])\n",
    "    #SNP HWE\n",
    "    subprocess.run([\"plink\", \"--bfile\", filename2 + \"_founders_geno01_maf\", \"--hwe\", \"0.001\", \"--make-bed\", \"--out\", filename2 + \"_founders_geno01_maf_hwe\"])\n",
    "    #Sample missing rate\n",
    "    subprocess.run([\"plink\", \"--bfile\", filename2 + \"_founders_geno01_maf_hwe\", \"--mind\", \"--make-bed\", \"--out\", filename2 + \"_founders_geno01_maf_hwe_mind01\"])\n",
    "    #Remove no sex in CHP\n",
    "    if \"CHP\" in filename1:\n",
    "        subprocess.run([\"plink\", \"--bfile\", filename2 + \"_founders_geno01_maf_hwe_mind01\", \"--remove\", filename2 + \"_founders_geno01_maf_hwe_mind01.nosex\", \n",
    "                        \"--make-bed\", \"--out\", filename2 + \"_founders_geno01_maf_hwe_mind01\"])\n",
    "        \n",
    "print(\"Finished\")"
   ]
  },
  {
   "cell_type": "code",
   "execution_count": 10,
   "metadata": {},
   "outputs": [],
   "source": [
    "#Remove intermediary files\n",
    "removefiles =  glob.glob(\"02_Clean/*_founders.*\") + glob.glob(\"02_Clean/*_geno01.*\") + glob.glob(\"02_Clean/*_maf.*\") + glob.glob(\"02_Clean/*_hwe.*\")\n",
    "for file in removefiles:\n",
    "    os.remove(file)"
   ]
  },
  {
   "cell_type": "markdown",
   "metadata": {},
   "source": [
    "Let's us look at how many SNPs ended in each dataset."
   ]
  },
  {
   "cell_type": "code",
   "execution_count": 11,
   "metadata": {},
   "outputs": [
    {
     "name": "stdout",
     "output_type": "stream",
     "text": [
      "In file: SA_231ppl_599K_hg19_ATGC_founders_geno01_maf_hwe_mind01\n",
      "524899 variants loaded from .bim file.\n",
      "524899 variants and 222 people pass filters and QC.\n",
      "Finished file... \n",
      "\n",
      "In file: UIUC2014_168ppl_703K_hg19_ATGC_founders_geno01_maf_hwe_mind01\n",
      "514038 variants loaded from .bim file.\n",
      "514038 variants and 166 people pass filters and QC.\n",
      "Finished file... \n",
      "\n",
      "In file: UIUC2013_116ppl_959K_hg19_ATGC_founders_geno01_maf_hwe_mind01\n",
      "868241 variants loaded from .bim file.\n",
      "868241 variants and 115 people pass filters and QC.\n",
      "Finished file... \n",
      "\n",
      "In file: TD2016_1M_181ppl_founders_geno01_maf_hwe_mind01\n",
      "611225 variants loaded from .bim file.\n",
      "611225 variants and 181 people pass filters and QC.\n",
      "Finished file... \n",
      "\n",
      "In file: TD2015_199ppl_1M_hg19_ATGC_founders_geno01_maf_hwe_mind01\n",
      "514194 variants loaded from .bim file.\n",
      "514194 variants and 182 people pass filters and QC.\n",
      "Finished file... \n",
      "\n",
      "In file: Euro180_176ppl_317K_hg19_ATGC_founders_geno01_maf_hwe_mind01\n",
      "313230 variants loaded from .bim file.\n",
      "313230 variants and 176 people pass filters and QC.\n",
      "Finished file... \n",
      "\n",
      "In file: CV_697ppl_964K_hg19_ATGC_founders_geno01_maf_hwe_mind01\n",
      "883530 variants loaded from .bim file.\n",
      "883530 variants and 697 people pass filters and QC.\n",
      "Finished file... \n",
      "\n",
      "In file: CHP_1022ppl_114K_hg19_ATGC_founders_geno01_maf_hwe_mind01\n",
      "103151 variants loaded from .bim file.\n",
      "103151 variants and 919 people pass filters and QC.\n",
      "Finished file... \n",
      "\n",
      "In file: UC_FEMMES_IDUpdated_founders_geno01_maf_hwe_mind01\n",
      "107833 variants loaded from .bim file.\n",
      "107833 variants and 248 people pass filters and QC.\n",
      "Finished file... \n",
      "\n",
      "In file: FEMMES_20170425_founders_geno01_maf_hwe_mind01\n",
      "527471 variants loaded from .bim file.\n",
      "527471 variants and 236 people pass filters and QC.\n",
      "Finished file... \n",
      "\n",
      "In file: ADAPT_2784ppl_567K_hg19_founders_geno01_maf_hwe_mind01\n",
      "440591 variants loaded from .bim file.\n",
      "440591 variants and 2702 people pass filters and QC.\n",
      "Finished file... \n",
      "\n"
     ]
    }
   ],
   "source": [
    "for file in glob.glob(\"02_Clean/*_mind01.log\"):\n",
    "    with open(file) as myfile:\n",
    "        print(\"In file: \" + file.split(\"/\")[1].split(\".\")[0])\n",
    "        for num, line in enumerate(myfile, 1):\n",
    "            if \"variants\" in line:\n",
    "                print(line, end='')\n",
    "        print(\"Finished file... \\n\")"
   ]
  },
  {
   "cell_type": "markdown",
   "metadata": {},
   "source": [
    "Let's us look at how many samples were removed in each dataset."
   ]
  },
  {
   "cell_type": "code",
   "execution_count": 12,
   "metadata": {},
   "outputs": [
    {
     "name": "stdout",
     "output_type": "stream",
     "text": [
      "In file: SA_231ppl_599K_hg19_ATGC_founders_geno01_maf_hwe_mind01\n",
      "222 people (80 males, 142 females) loaded from .fam.\n",
      "0 people removed due to missing genotype data (--mind).\n",
      "524899 variants and 222 people pass filters and QC.\n",
      "Finished file... \n",
      "\n",
      "In file: UIUC2014_168ppl_703K_hg19_ATGC_founders_geno01_maf_hwe_mind01\n",
      "166 people (75 males, 91 females) loaded from .fam.\n",
      "0 people removed due to missing genotype data (--mind).\n",
      "514038 variants and 166 people pass filters and QC.\n",
      "Finished file... \n",
      "\n",
      "In file: UIUC2013_116ppl_959K_hg19_ATGC_founders_geno01_maf_hwe_mind01\n",
      "115 people (34 males, 81 females) loaded from .fam.\n",
      "0 people removed due to missing genotype data (--mind).\n",
      "868241 variants and 115 people pass filters and QC.\n",
      "Finished file... \n",
      "\n",
      "In file: TD2016_1M_181ppl_founders_geno01_maf_hwe_mind01\n",
      "181 people (40 males, 141 females) loaded from .fam.\n",
      "0 people removed due to missing genotype data (--mind).\n",
      "611225 variants and 181 people pass filters and QC.\n",
      "Finished file... \n",
      "\n",
      "In file: TD2015_199ppl_1M_hg19_ATGC_founders_geno01_maf_hwe_mind01\n",
      "182 people (28 males, 154 females) loaded from .fam.\n",
      "0 people removed due to missing genotype data (--mind).\n",
      "514194 variants and 182 people pass filters and QC.\n",
      "Finished file... \n",
      "\n",
      "In file: Euro180_176ppl_317K_hg19_ATGC_founders_geno01_maf_hwe_mind01\n",
      "176 people (0 males, 176 females) loaded from .fam.\n",
      "0 people removed due to missing genotype data (--mind).\n",
      "313230 variants and 176 people pass filters and QC.\n",
      "Finished file... \n",
      "\n",
      "In file: CV_697ppl_964K_hg19_ATGC_founders_geno01_maf_hwe_mind01\n",
      "697 people (285 males, 412 females) loaded from .fam.\n",
      "0 people removed due to missing genotype data (--mind).\n",
      "883530 variants and 697 people pass filters and QC.\n",
      "Finished file... \n",
      "\n",
      "In file: CHP_1022ppl_114K_hg19_ATGC_founders_geno01_maf_hwe_mind01\n",
      "996 people (332 males, 587 females, 77 ambiguous) loaded from .fam.\n",
      "--remove: 919 people remaining.\n",
      "103151 variants and 919 people pass filters and QC.\n",
      "Finished file... \n",
      "\n",
      "In file: UC_FEMMES_IDUpdated_founders_geno01_maf_hwe_mind01\n",
      "248 people (0 males, 0 females, 248 ambiguous) loaded from .fam.\n",
      "0 people removed due to missing genotype data (--mind).\n",
      "107833 variants and 248 people pass filters and QC.\n",
      "Finished file... \n",
      "\n",
      "In file: FEMMES_20170425_founders_geno01_maf_hwe_mind01\n",
      "236 people (0 males, 236 females) loaded from .fam.\n",
      "0 people removed due to missing genotype data (--mind).\n",
      "527471 variants and 236 people pass filters and QC.\n",
      "Finished file... \n",
      "\n",
      "In file: ADAPT_2784ppl_567K_hg19_founders_geno01_maf_hwe_mind01\n",
      "2702 people (1007 males, 1695 females) loaded from .fam.\n",
      "0 people removed due to missing genotype data (--mind).\n",
      "440591 variants and 2702 people pass filters and QC.\n",
      "Finished file... \n",
      "\n"
     ]
    }
   ],
   "source": [
    "for file in glob.glob(\"02_Clean/*_mind01.log\"):\n",
    "    with open(file) as myfile:\n",
    "        print(\"In file: \" + file.split(\"/\")[1].split(\".\")[0])\n",
    "        for num, line in enumerate(myfile, 1):\n",
    "            if \"people\" in line:\n",
    "                print(line, end='')\n",
    "        print(\"Finished file... \\n\")"
   ]
  }
 ],
 "metadata": {
  "kernelspec": {
   "display_name": "Python 3",
   "language": "python",
   "name": "python3"
  },
  "language_info": {
   "codemirror_mode": {
    "name": "ipython",
    "version": 3
   },
   "file_extension": ".py",
   "mimetype": "text/x-python",
   "name": "python",
   "nbconvert_exporter": "python",
   "pygments_lexer": "ipython3",
   "version": "3.6.5"
  }
 },
 "nbformat": 4,
 "nbformat_minor": 2
}
